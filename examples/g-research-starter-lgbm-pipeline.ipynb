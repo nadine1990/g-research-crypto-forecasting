{
 "cells": [
  {
   "cell_type": "markdown",
   "id": "22cfec60",
   "metadata": {
    "papermill": {
     "duration": 0.015824,
     "end_time": "2021-11-06T07:29:16.178040",
     "exception": false,
     "start_time": "2021-11-06T07:29:16.162216",
     "status": "completed"
    },
    "tags": []
   },
   "source": [
    "# 🪙 G-Research Crypto - Starter LGBM Pipeline\n",
    "![](https://storage.googleapis.com/kaggle-competitions/kaggle/30894/logos/header.png)\n",
    "\n",
    "---\n",
    "\n",
    "# [[S] 🪙💲 Proposal for a meaningful LB](https://www.kaggle.com/julian3833/s-proposal-for-submission-common-ground)\n",
    "# 👆👆👆 A proposal for an agreement to get comparable, non-leaky models\n",
    "\n",
    "<h3 style=\"text-align:center; background-color:#FFEECC;padding:40px;border-radius: 30px;\">\n",
    "    <b>Watch out!</b>: the test data is contained in the original train data 😒, so the LB score of <i>0.313</i> is overfitting. The best LB without the overlap, as of today, is <i>0.016</i>. This can be further improved.\n",
    "    <br><br>\n",
    "    In this version, the variable `REMOVE_LB_TEST_OVERLAPPING_DATA` controls whether to keep only data from before the placeholder <i>test.csv</i> for training or use the full <i>train.csv</i>. \n",
    "    <br><br>\n",
    "    I wrote a simple notebook (~18 lines) fully exploiting this fact <a href=\"https://www.kaggle.com/julian3833/g-research-using-the-overlap-fully-lb-0-99\">here</a>.\n",
    "    \n",
    "</h3>\n",
    "\n",
    "A copy of this notebook without exposition to the \"leaky\" data: [[S]🪙💲G-Research - Starter LGBM [LB=0.017]](https://www.kaggle.com/julian3833/s-g-research-starter-lgbm-lb-0-017/)\n",
    "\n",
    "\n",
    "\n",
    "# For more information:\n",
    "* __[Watch out!: test LB period is contained in the train csv](https://www.kaggle.com/c/g-research-crypto-forecasting/discussion/285505) (topic)__\n",
    "* __[🪙💲 G-Research- Using the overlap fully [LB=0.99]](https://www.kaggle.com/julian3833/g-research-using-the-overlap-fully-lb-0-99) (notebook)__\n",
    "* __[Meaningful submission scores / sharing the lower boundary of public test data](https://www.kaggle.com/c/g-research-crypto-forecasting/discussion/285289) (topic)__\n",
    "\n",
    "\n",
    "\n",
    "---\n",
    "\n",
    "\n",
    "### Just a simple pipeline going from zero to a valid submission\n",
    "\n",
    "We train one `LGBMRegressor` for each asset over a very very naive set of features (the input dataframe `['Count', 'Open', 'High', 'Low', 'Close', 'Volume', 'VWAP']`), we get the predictions correctly using the iterator and we submit. No validation for now, no cross validation... nothing at all lol: just the bare pipeline!\n",
    "\n",
    "\n",
    "## Please _DO_ upvote if you find this useful!\n",
    "\n",
    "\n",
    "__Changelog__\n",
    "\n",
    "__V20__: __V15__ with `10` estimators.\n",
    "\n",
    "[__V16__](https://www.kaggle.com/julian3833/g-research-starter-lgbm-pipeline?scriptVersionId=78762326): Fooling around with the leakage again. `REMOVE_LB_TEST_OVERLAPPING_DATA=False` and set `n_estimators=3000`. `LB=0.313`\n",
    "\n",
    "\n",
    "[__V15__](https://www.kaggle.com/julian3833/g-research-starter-lgbm-pipeline?scriptVersionId=78757083) : Added flag `REMOVE_LB_TEST_OVERLAPPING_DATA` to keep only train data that is _before_ the placeholder test data (`'2021-06-13 00:00:00'`). `LB=0.016`. Reduced estimators to `5`\n",
    "\n",
    "[__V11__](https://www.kaggle.com/julian3833/g-research-starter-lgbm-pipeline?scriptVersionId=78722210): `LB=201`.\n",
    "\n",
    "[__V5__](https://www.kaggle.com/julian3833/g-research-starter-lgbm-pipeline?scriptVersionId=78663867): Added two non-timely features from the tutorial: `Upper_Shadow` and `Lower_Shadow`\n",
    "\n",
    "\n",
    "\n",
    "## References:\n",
    "* [Detailed API Introduction](https://www.kaggle.com/sohier/detailed-api-introduction)\n",
    "* [Basic Submission Template](https://www.kaggle.com/sohier/basic-submission-template)\n",
    "* [Tutorial to the G-Research Crypto Competition](https://www.kaggle.com/cstein06/tutorial-to-the-g-research-crypto-competition)\n",
    "\n"
   ]
  },
  {
   "cell_type": "markdown",
   "id": "0d10483f",
   "metadata": {
    "papermill": {
     "duration": 0.014754,
     "end_time": "2021-11-06T07:29:16.208522",
     "exception": false,
     "start_time": "2021-11-06T07:29:16.193768",
     "status": "completed"
    },
    "tags": []
   },
   "source": [
    "# Import and load dfs\n",
    "\n",
    "References: [Tutorial to the G-Research Crypto Competition](https://www.kaggle.com/cstein06/tutorial-to-the-g-research-crypto-competition)"
   ]
  },
  {
   "cell_type": "code",
   "execution_count": 1,
   "id": "0f56ecec",
   "metadata": {
    "execution": {
     "iopub.execute_input": "2021-11-06T07:29:16.254691Z",
     "iopub.status.busy": "2021-11-06T07:29:16.249242Z",
     "iopub.status.idle": "2021-11-06T07:29:18.465786Z",
     "shell.execute_reply": "2021-11-06T07:29:18.466568Z",
     "shell.execute_reply.started": "2021-11-04T02:58:12.727851Z"
    },
    "papermill": {
     "duration": 2.243986,
     "end_time": "2021-11-06T07:29:18.466925",
     "exception": false,
     "start_time": "2021-11-06T07:29:16.222939",
     "status": "completed"
    },
    "tags": []
   },
   "outputs": [
    {
     "data": {
      "text/html": [
       "<style type='text/css'>\n",
       ".datatable table.frame { margin-bottom: 0; }\n",
       ".datatable table.frame thead { border-bottom: none; }\n",
       ".datatable table.frame tr.coltypes td {  color: #FFFFFF;  line-height: 6px;  padding: 0 0.5em;}\n",
       ".datatable .bool    { background: #DDDD99; }\n",
       ".datatable .object  { background: #565656; }\n",
       ".datatable .int     { background: #5D9E5D; }\n",
       ".datatable .float   { background: #4040CC; }\n",
       ".datatable .str     { background: #CC4040; }\n",
       ".datatable .time    { background: #40CC40; }\n",
       ".datatable .row_index {  background: var(--jp-border-color3);  border-right: 1px solid var(--jp-border-color0);  color: var(--jp-ui-font-color3);  font-size: 9px;}\n",
       ".datatable .frame tbody td { text-align: left; }\n",
       ".datatable .frame tr.coltypes .row_index {  background: var(--jp-border-color0);}\n",
       ".datatable th:nth-child(2) { padding-left: 12px; }\n",
       ".datatable .hellipsis {  color: var(--jp-cell-editor-border-color);}\n",
       ".datatable .vellipsis {  background: var(--jp-layout-color0);  color: var(--jp-cell-editor-border-color);}\n",
       ".datatable .na {  color: var(--jp-cell-editor-border-color);  font-size: 80%;}\n",
       ".datatable .sp {  opacity: 0.25;}\n",
       ".datatable .footer { font-size: 9px; }\n",
       ".datatable .frame_dimensions {  background: var(--jp-border-color3);  border-top: 1px solid var(--jp-border-color0);  color: var(--jp-ui-font-color3);  display: inline-block;  opacity: 0.6;  padding: 1px 10px 1px 5px;}\n",
       "</style>\n"
      ],
      "text/plain": [
       "<IPython.core.display.HTML object>"
      ]
     },
     "metadata": {},
     "output_type": "display_data"
    }
   ],
   "source": [
    "import os\n",
    "import random\n",
    "import pandas as pd\n",
    "import numpy as np\n",
    "from lightgbm import LGBMRegressor\n",
    "import gresearch_crypto\n",
    "\n",
    "\n",
    "TRAIN_CSV = '/kaggle/input/g-research-crypto-forecasting/train.csv'\n",
    "ASSET_DETAILS_CSV = '/kaggle/input/g-research-crypto-forecasting/asset_details.csv'\n",
    "\n",
    "SEED = 2021\n",
    "\n",
    "REMOVE_LB_TEST_OVERLAPPING_DATA = True"
   ]
  },
  {
   "cell_type": "code",
   "execution_count": 2,
   "id": "e4cff7f4",
   "metadata": {
    "execution": {
     "iopub.execute_input": "2021-11-06T07:29:18.502505Z",
     "iopub.status.busy": "2021-11-06T07:29:18.501372Z",
     "iopub.status.idle": "2021-11-06T07:29:18.506640Z",
     "shell.execute_reply": "2021-11-06T07:29:18.507222Z",
     "shell.execute_reply.started": "2021-11-04T02:58:15.109442Z"
    },
    "papermill": {
     "duration": 0.024743,
     "end_time": "2021-11-06T07:29:18.507416",
     "exception": false,
     "start_time": "2021-11-06T07:29:18.482673",
     "status": "completed"
    },
    "tags": []
   },
   "outputs": [],
   "source": [
    "def fix_all_seeds(seed):\n",
    "    np.random.seed(seed)\n",
    "    random.seed(seed)\n",
    "    os.environ['PYTHONHASHSEED'] = str(seed)\n",
    "\n",
    "fix_all_seeds(SEED)"
   ]
  },
  {
   "cell_type": "code",
   "execution_count": 3,
   "id": "7522f24a",
   "metadata": {
    "execution": {
     "iopub.execute_input": "2021-11-06T07:29:18.541536Z",
     "iopub.status.busy": "2021-11-06T07:29:18.540477Z",
     "iopub.status.idle": "2021-11-06T07:30:22.795425Z",
     "shell.execute_reply": "2021-11-06T07:30:22.795969Z"
    },
    "papermill": {
     "duration": 64.273904,
     "end_time": "2021-11-06T07:30:22.796180",
     "exception": false,
     "start_time": "2021-11-06T07:29:18.522276",
     "status": "completed"
    },
    "tags": []
   },
   "outputs": [
    {
     "data": {
      "text/html": [
       "<div>\n",
       "<style scoped>\n",
       "    .dataframe tbody tr th:only-of-type {\n",
       "        vertical-align: middle;\n",
       "    }\n",
       "\n",
       "    .dataframe tbody tr th {\n",
       "        vertical-align: top;\n",
       "    }\n",
       "\n",
       "    .dataframe thead th {\n",
       "        text-align: right;\n",
       "    }\n",
       "</style>\n",
       "<table border=\"1\" class=\"dataframe\">\n",
       "  <thead>\n",
       "    <tr style=\"text-align: right;\">\n",
       "      <th></th>\n",
       "      <th>timestamp</th>\n",
       "      <th>Asset_ID</th>\n",
       "      <th>Count</th>\n",
       "      <th>Open</th>\n",
       "      <th>High</th>\n",
       "      <th>Low</th>\n",
       "      <th>Close</th>\n",
       "      <th>Volume</th>\n",
       "      <th>VWAP</th>\n",
       "      <th>Target</th>\n",
       "    </tr>\n",
       "  </thead>\n",
       "  <tbody>\n",
       "    <tr>\n",
       "      <th>0</th>\n",
       "      <td>1514764860</td>\n",
       "      <td>2</td>\n",
       "      <td>40.0</td>\n",
       "      <td>2376.5800</td>\n",
       "      <td>2399.5000</td>\n",
       "      <td>2357.1400</td>\n",
       "      <td>2374.5900</td>\n",
       "      <td>19.233005</td>\n",
       "      <td>2373.116392</td>\n",
       "      <td>-0.004218</td>\n",
       "    </tr>\n",
       "    <tr>\n",
       "      <th>1</th>\n",
       "      <td>1514764860</td>\n",
       "      <td>0</td>\n",
       "      <td>5.0</td>\n",
       "      <td>8.5300</td>\n",
       "      <td>8.5300</td>\n",
       "      <td>8.5300</td>\n",
       "      <td>8.5300</td>\n",
       "      <td>78.380000</td>\n",
       "      <td>8.530000</td>\n",
       "      <td>-0.014399</td>\n",
       "    </tr>\n",
       "    <tr>\n",
       "      <th>2</th>\n",
       "      <td>1514764860</td>\n",
       "      <td>1</td>\n",
       "      <td>229.0</td>\n",
       "      <td>13835.1940</td>\n",
       "      <td>14013.8000</td>\n",
       "      <td>13666.1100</td>\n",
       "      <td>13850.1760</td>\n",
       "      <td>31.550062</td>\n",
       "      <td>13827.062093</td>\n",
       "      <td>-0.014643</td>\n",
       "    </tr>\n",
       "    <tr>\n",
       "      <th>3</th>\n",
       "      <td>1514764860</td>\n",
       "      <td>5</td>\n",
       "      <td>32.0</td>\n",
       "      <td>7.6596</td>\n",
       "      <td>7.6596</td>\n",
       "      <td>7.6567</td>\n",
       "      <td>7.6576</td>\n",
       "      <td>6626.713370</td>\n",
       "      <td>7.657713</td>\n",
       "      <td>-0.013922</td>\n",
       "    </tr>\n",
       "    <tr>\n",
       "      <th>4</th>\n",
       "      <td>1514764860</td>\n",
       "      <td>7</td>\n",
       "      <td>5.0</td>\n",
       "      <td>25.9200</td>\n",
       "      <td>25.9200</td>\n",
       "      <td>25.8740</td>\n",
       "      <td>25.8770</td>\n",
       "      <td>121.087310</td>\n",
       "      <td>25.891363</td>\n",
       "      <td>-0.008264</td>\n",
       "    </tr>\n",
       "  </tbody>\n",
       "</table>\n",
       "</div>"
      ],
      "text/plain": [
       "    timestamp  Asset_ID  Count        Open        High         Low  \\\n",
       "0  1514764860         2   40.0   2376.5800   2399.5000   2357.1400   \n",
       "1  1514764860         0    5.0      8.5300      8.5300      8.5300   \n",
       "2  1514764860         1  229.0  13835.1940  14013.8000  13666.1100   \n",
       "3  1514764860         5   32.0      7.6596      7.6596      7.6567   \n",
       "4  1514764860         7    5.0     25.9200     25.9200     25.8740   \n",
       "\n",
       "        Close       Volume          VWAP    Target  \n",
       "0   2374.5900    19.233005   2373.116392 -0.004218  \n",
       "1      8.5300    78.380000      8.530000 -0.014399  \n",
       "2  13850.1760    31.550062  13827.062093 -0.014643  \n",
       "3      7.6576  6626.713370      7.657713 -0.013922  \n",
       "4     25.8770   121.087310     25.891363 -0.008264  "
      ]
     },
     "execution_count": 3,
     "metadata": {},
     "output_type": "execute_result"
    }
   ],
   "source": [
    "df_train = pd.read_csv(TRAIN_CSV)\n",
    "df_train.head()"
   ]
  },
  {
   "cell_type": "markdown",
   "id": "ba1c82cf",
   "metadata": {
    "papermill": {
     "duration": 0.015402,
     "end_time": "2021-11-06T07:30:22.827310",
     "exception": false,
     "start_time": "2021-11-06T07:30:22.811908",
     "status": "completed"
    },
    "tags": []
   },
   "source": [
    "## Keep only values _before_ the LB test set"
   ]
  },
  {
   "cell_type": "code",
   "execution_count": 4,
   "id": "bd82722b",
   "metadata": {
    "execution": {
     "iopub.execute_input": "2021-11-06T07:30:22.863082Z",
     "iopub.status.busy": "2021-11-06T07:30:22.862044Z",
     "iopub.status.idle": "2021-11-06T07:30:26.970989Z",
     "shell.execute_reply": "2021-11-06T07:30:26.970313Z"
    },
    "papermill": {
     "duration": 4.128044,
     "end_time": "2021-11-06T07:30:26.971149",
     "exception": false,
     "start_time": "2021-11-06T07:30:22.843105",
     "status": "completed"
    },
    "tags": []
   },
   "outputs": [],
   "source": [
    "# Remove the future\n",
    "if REMOVE_LB_TEST_OVERLAPPING_DATA:\n",
    "    df_train['datetime'] = pd.to_datetime(df_train['timestamp'], unit='s')\n",
    "    df_train = df_train[df_train['datetime'] < '2021-06-13 00:00:00']"
   ]
  },
  {
   "cell_type": "code",
   "execution_count": 5,
   "id": "f315f85a",
   "metadata": {
    "execution": {
     "iopub.execute_input": "2021-11-06T07:30:27.009219Z",
     "iopub.status.busy": "2021-11-06T07:30:27.008487Z",
     "iopub.status.idle": "2021-11-06T07:30:27.031111Z",
     "shell.execute_reply": "2021-11-06T07:30:27.031678Z"
    },
    "papermill": {
     "duration": 0.044534,
     "end_time": "2021-11-06T07:30:27.031885",
     "exception": false,
     "start_time": "2021-11-06T07:30:26.987351",
     "status": "completed"
    },
    "tags": []
   },
   "outputs": [
    {
     "data": {
      "text/html": [
       "<div>\n",
       "<style scoped>\n",
       "    .dataframe tbody tr th:only-of-type {\n",
       "        vertical-align: middle;\n",
       "    }\n",
       "\n",
       "    .dataframe tbody tr th {\n",
       "        vertical-align: top;\n",
       "    }\n",
       "\n",
       "    .dataframe thead th {\n",
       "        text-align: right;\n",
       "    }\n",
       "</style>\n",
       "<table border=\"1\" class=\"dataframe\">\n",
       "  <thead>\n",
       "    <tr style=\"text-align: right;\">\n",
       "      <th></th>\n",
       "      <th>Asset_ID</th>\n",
       "      <th>Weight</th>\n",
       "      <th>Asset_Name</th>\n",
       "    </tr>\n",
       "  </thead>\n",
       "  <tbody>\n",
       "    <tr>\n",
       "      <th>1</th>\n",
       "      <td>0</td>\n",
       "      <td>4.304065</td>\n",
       "      <td>Binance Coin</td>\n",
       "    </tr>\n",
       "    <tr>\n",
       "      <th>2</th>\n",
       "      <td>1</td>\n",
       "      <td>6.779922</td>\n",
       "      <td>Bitcoin</td>\n",
       "    </tr>\n",
       "    <tr>\n",
       "      <th>0</th>\n",
       "      <td>2</td>\n",
       "      <td>2.397895</td>\n",
       "      <td>Bitcoin Cash</td>\n",
       "    </tr>\n",
       "    <tr>\n",
       "      <th>10</th>\n",
       "      <td>3</td>\n",
       "      <td>4.406719</td>\n",
       "      <td>Cardano</td>\n",
       "    </tr>\n",
       "    <tr>\n",
       "      <th>13</th>\n",
       "      <td>4</td>\n",
       "      <td>3.555348</td>\n",
       "      <td>Dogecoin</td>\n",
       "    </tr>\n",
       "    <tr>\n",
       "      <th>3</th>\n",
       "      <td>5</td>\n",
       "      <td>1.386294</td>\n",
       "      <td>EOS.IO</td>\n",
       "    </tr>\n",
       "    <tr>\n",
       "      <th>5</th>\n",
       "      <td>6</td>\n",
       "      <td>5.894403</td>\n",
       "      <td>Ethereum</td>\n",
       "    </tr>\n",
       "    <tr>\n",
       "      <th>4</th>\n",
       "      <td>7</td>\n",
       "      <td>2.079442</td>\n",
       "      <td>Ethereum Classic</td>\n",
       "    </tr>\n",
       "    <tr>\n",
       "      <th>11</th>\n",
       "      <td>8</td>\n",
       "      <td>1.098612</td>\n",
       "      <td>IOTA</td>\n",
       "    </tr>\n",
       "    <tr>\n",
       "      <th>6</th>\n",
       "      <td>9</td>\n",
       "      <td>2.397895</td>\n",
       "      <td>Litecoin</td>\n",
       "    </tr>\n",
       "    <tr>\n",
       "      <th>12</th>\n",
       "      <td>10</td>\n",
       "      <td>1.098612</td>\n",
       "      <td>Maker</td>\n",
       "    </tr>\n",
       "    <tr>\n",
       "      <th>7</th>\n",
       "      <td>11</td>\n",
       "      <td>1.609438</td>\n",
       "      <td>Monero</td>\n",
       "    </tr>\n",
       "    <tr>\n",
       "      <th>9</th>\n",
       "      <td>12</td>\n",
       "      <td>2.079442</td>\n",
       "      <td>Stellar</td>\n",
       "    </tr>\n",
       "    <tr>\n",
       "      <th>8</th>\n",
       "      <td>13</td>\n",
       "      <td>1.791759</td>\n",
       "      <td>TRON</td>\n",
       "    </tr>\n",
       "  </tbody>\n",
       "</table>\n",
       "</div>"
      ],
      "text/plain": [
       "    Asset_ID    Weight        Asset_Name\n",
       "1          0  4.304065      Binance Coin\n",
       "2          1  6.779922           Bitcoin\n",
       "0          2  2.397895      Bitcoin Cash\n",
       "10         3  4.406719           Cardano\n",
       "13         4  3.555348          Dogecoin\n",
       "3          5  1.386294            EOS.IO\n",
       "5          6  5.894403          Ethereum\n",
       "4          7  2.079442  Ethereum Classic\n",
       "11         8  1.098612              IOTA\n",
       "6          9  2.397895          Litecoin\n",
       "12        10  1.098612             Maker\n",
       "7         11  1.609438            Monero\n",
       "9         12  2.079442           Stellar\n",
       "8         13  1.791759              TRON"
      ]
     },
     "execution_count": 5,
     "metadata": {},
     "output_type": "execute_result"
    }
   ],
   "source": [
    "df_asset_details = pd.read_csv(ASSET_DETAILS_CSV).sort_values(\"Asset_ID\")\n",
    "df_asset_details"
   ]
  },
  {
   "cell_type": "markdown",
   "id": "76e0184f",
   "metadata": {
    "papermill": {
     "duration": 0.016408,
     "end_time": "2021-11-06T07:30:27.065086",
     "exception": false,
     "start_time": "2021-11-06T07:30:27.048678",
     "status": "completed"
    },
    "tags": []
   },
   "source": [
    "# Training"
   ]
  },
  {
   "cell_type": "markdown",
   "id": "eaca3f05",
   "metadata": {
    "papermill": {
     "duration": 0.016118,
     "end_time": "2021-11-06T07:30:27.097819",
     "exception": false,
     "start_time": "2021-11-06T07:30:27.081701",
     "status": "completed"
    },
    "tags": []
   },
   "source": [
    "## Utility functions to train a model for one asset"
   ]
  },
  {
   "cell_type": "code",
   "execution_count": 6,
   "id": "9d92a536",
   "metadata": {
    "execution": {
     "iopub.execute_input": "2021-11-06T07:30:27.135211Z",
     "iopub.status.busy": "2021-11-06T07:30:27.134131Z",
     "iopub.status.idle": "2021-11-06T07:30:27.144024Z",
     "shell.execute_reply": "2021-11-06T07:30:27.144612Z",
     "shell.execute_reply.started": "2021-11-02T22:54:29.226222Z"
    },
    "papermill": {
     "duration": 0.030462,
     "end_time": "2021-11-06T07:30:27.144829",
     "exception": false,
     "start_time": "2021-11-06T07:30:27.114367",
     "status": "completed"
    },
    "tags": []
   },
   "outputs": [],
   "source": [
    "# Two new features from the competition tutorial\n",
    "def upper_shadow(df):\n",
    "    return df['High'] - np.maximum(df['Close'], df['Open'])\n",
    "\n",
    "def lower_shadow(df):\n",
    "    return np.minimum(df['Close'], df['Open']) - df['Low']\n",
    "\n",
    "# A utility function to build features from the original df\n",
    "# It works for rows to, so we can reutilize it.\n",
    "def get_features(df):\n",
    "    df_feat = df[['Count', 'Open', 'High', 'Low', 'Close', 'Volume', 'VWAP']].copy()\n",
    "    df_feat['Upper_Shadow'] = upper_shadow(df_feat)\n",
    "    df_feat['Lower_Shadow'] = lower_shadow(df_feat)\n",
    "    return df_feat\n",
    "\n",
    "def get_Xy_and_model_for_asset(df_train, asset_id):\n",
    "    df = df_train[df_train[\"Asset_ID\"] == asset_id]\n",
    "    \n",
    "    # TODO: Try different features here!\n",
    "    df_proc = get_features(df)\n",
    "    df_proc['y'] = df['Target']\n",
    "    df_proc = df_proc.dropna(how=\"any\")\n",
    "    \n",
    "    X = df_proc.drop(\"y\", axis=1)\n",
    "    y = df_proc[\"y\"]\n",
    "    \n",
    "    # TODO: Try different models here!\n",
    "    model = LGBMRegressor(n_estimators=10)\n",
    "    model.fit(X, y)\n",
    "    return X, y, model"
   ]
  },
  {
   "cell_type": "markdown",
   "id": "cc36da26",
   "metadata": {
    "papermill": {
     "duration": 0.01583,
     "end_time": "2021-11-06T07:30:27.176939",
     "exception": false,
     "start_time": "2021-11-06T07:30:27.161109",
     "status": "completed"
    },
    "tags": []
   },
   "source": [
    "## Loop over all assets"
   ]
  },
  {
   "cell_type": "code",
   "execution_count": 7,
   "id": "4a2283b2",
   "metadata": {
    "execution": {
     "iopub.execute_input": "2021-11-06T07:30:27.213913Z",
     "iopub.status.busy": "2021-11-06T07:30:27.212849Z",
     "iopub.status.idle": "2021-11-06T07:30:53.457011Z",
     "shell.execute_reply": "2021-11-06T07:30:53.457707Z",
     "shell.execute_reply.started": "2021-11-02T22:54:30.222275Z"
    },
    "papermill": {
     "duration": 26.264735,
     "end_time": "2021-11-06T07:30:53.457960",
     "exception": false,
     "start_time": "2021-11-06T07:30:27.193225",
     "status": "completed"
    },
    "tags": []
   },
   "outputs": [
    {
     "name": "stdout",
     "output_type": "stream",
     "text": [
      "Training model for Binance Coin     (ID=0 )\n",
      "Training model for Bitcoin          (ID=1 )\n",
      "Training model for Bitcoin Cash     (ID=2 )\n",
      "Training model for Cardano          (ID=3 )\n",
      "Training model for Dogecoin         (ID=4 )\n",
      "Training model for EOS.IO           (ID=5 )\n",
      "Training model for Ethereum         (ID=6 )\n",
      "Training model for Ethereum Classic (ID=7 )\n",
      "Training model for IOTA             (ID=8 )\n",
      "Training model for Litecoin         (ID=9 )\n",
      "Training model for Maker            (ID=10)\n",
      "Training model for Monero           (ID=11)\n",
      "Training model for Stellar          (ID=12)\n",
      "Training model for TRON             (ID=13)\n"
     ]
    }
   ],
   "source": [
    "Xs = {}\n",
    "ys = {}\n",
    "models = {}\n",
    "\n",
    "for asset_id, asset_name in zip(df_asset_details['Asset_ID'], df_asset_details['Asset_Name']):\n",
    "    print(f\"Training model for {asset_name:<16} (ID={asset_id:<2})\")\n",
    "    X, y, model = get_Xy_and_model_for_asset(df_train, asset_id)    \n",
    "    Xs[asset_id], ys[asset_id], models[asset_id] = X, y, model"
   ]
  },
  {
   "cell_type": "code",
   "execution_count": 8,
   "id": "3db74067",
   "metadata": {
    "execution": {
     "iopub.execute_input": "2021-11-06T07:30:53.510989Z",
     "iopub.status.busy": "2021-11-06T07:30:53.510195Z",
     "iopub.status.idle": "2021-11-06T07:30:53.518196Z",
     "shell.execute_reply": "2021-11-06T07:30:53.518713Z",
     "shell.execute_reply.started": "2021-11-02T22:56:23.327788Z"
    },
    "papermill": {
     "duration": 0.038167,
     "end_time": "2021-11-06T07:30:53.518951",
     "exception": false,
     "start_time": "2021-11-06T07:30:53.480784",
     "status": "completed"
    },
    "tags": []
   },
   "outputs": [
    {
     "data": {
      "text/plain": [
       "9.477576309595709e-06"
      ]
     },
     "execution_count": 8,
     "metadata": {},
     "output_type": "execute_result"
    }
   ],
   "source": [
    "# Check the model interface\n",
    "x = get_features(df_train.iloc[1])\n",
    "y_pred = models[0].predict([x])\n",
    "y_pred[0]"
   ]
  },
  {
   "cell_type": "markdown",
   "id": "e273ed12",
   "metadata": {
    "execution": {
     "iopub.status.busy": "2021-11-02T20:57:49.349459Z",
     "iopub.status.idle": "2021-11-02T20:57:49.349757Z",
     "shell.execute_reply": "2021-11-02T20:57:49.349613Z",
     "shell.execute_reply.started": "2021-11-02T20:57:49.349596Z"
    },
    "papermill": {
     "duration": 0.02043,
     "end_time": "2021-11-06T07:30:53.561784",
     "exception": false,
     "start_time": "2021-11-06T07:30:53.541354",
     "status": "completed"
    },
    "tags": []
   },
   "source": [
    "# Predict & submit\n",
    "\n",
    "References: [Detailed API Introduction](https://www.kaggle.com/sohier/detailed-api-introduction)\n",
    "\n",
    "Something that helped me understand this iterator was adding a pdb checkpoint inside of the for loop:\n",
    "\n",
    "```python\n",
    "import pdb; pdb.set_trace()\n",
    "```\n",
    "\n",
    "See [Python Debugging With Pdb](https://realpython.com/python-debugging-pdb/) if you want to use it and you don't know how to.\n"
   ]
  },
  {
   "cell_type": "code",
   "execution_count": 9,
   "id": "cc24064d",
   "metadata": {
    "execution": {
     "iopub.execute_input": "2021-11-06T07:30:53.613006Z",
     "iopub.status.busy": "2021-11-06T07:30:53.612082Z",
     "iopub.status.idle": "2021-11-06T07:30:54.089259Z",
     "shell.execute_reply": "2021-11-06T07:30:54.088253Z",
     "shell.execute_reply.started": "2021-11-02T22:58:37.830095Z"
    },
    "papermill": {
     "duration": 0.507038,
     "end_time": "2021-11-06T07:30:54.089503",
     "exception": false,
     "start_time": "2021-11-06T07:30:53.582465",
     "status": "completed"
    },
    "tags": []
   },
   "outputs": [
    {
     "name": "stdout",
     "output_type": "stream",
     "text": [
      "This version of the API is not optimized and should not be used to estimate the runtime of your code on the hidden test set.\n"
     ]
    },
    {
     "data": {
      "text/plain": [
       "Count             1201.000000\n",
       "Open                 1.478556\n",
       "High                 1.486030\n",
       "Low                  1.478000\n",
       "Close                1.483681\n",
       "Volume          654799.561103\n",
       "VWAP                 1.481439\n",
       "Upper_Shadow         0.002349\n",
       "Lower_Shadow         0.000556\n",
       "Name: 0, dtype: float64"
      ]
     },
     "metadata": {},
     "output_type": "display_data"
    },
    {
     "data": {
      "text/html": [
       "<div>\n",
       "<style scoped>\n",
       "    .dataframe tbody tr th:only-of-type {\n",
       "        vertical-align: middle;\n",
       "    }\n",
       "\n",
       "    .dataframe tbody tr th {\n",
       "        vertical-align: top;\n",
       "    }\n",
       "\n",
       "    .dataframe thead th {\n",
       "        text-align: right;\n",
       "    }\n",
       "</style>\n",
       "<table border=\"1\" class=\"dataframe\">\n",
       "  <thead>\n",
       "    <tr style=\"text-align: right;\">\n",
       "      <th></th>\n",
       "      <th>row_id</th>\n",
       "      <th>Target</th>\n",
       "    </tr>\n",
       "  </thead>\n",
       "  <tbody>\n",
       "    <tr>\n",
       "      <th>0</th>\n",
       "      <td>0</td>\n",
       "      <td>-0.000031</td>\n",
       "    </tr>\n",
       "    <tr>\n",
       "      <th>1</th>\n",
       "      <td>1</td>\n",
       "      <td>-0.000002</td>\n",
       "    </tr>\n",
       "    <tr>\n",
       "      <th>2</th>\n",
       "      <td>2</td>\n",
       "      <td>0.000020</td>\n",
       "    </tr>\n",
       "    <tr>\n",
       "      <th>3</th>\n",
       "      <td>3</td>\n",
       "      <td>0.000013</td>\n",
       "    </tr>\n",
       "    <tr>\n",
       "      <th>4</th>\n",
       "      <td>4</td>\n",
       "      <td>0.000032</td>\n",
       "    </tr>\n",
       "    <tr>\n",
       "      <th>5</th>\n",
       "      <td>5</td>\n",
       "      <td>-0.000004</td>\n",
       "    </tr>\n",
       "    <tr>\n",
       "      <th>6</th>\n",
       "      <td>6</td>\n",
       "      <td>0.000072</td>\n",
       "    </tr>\n",
       "    <tr>\n",
       "      <th>7</th>\n",
       "      <td>7</td>\n",
       "      <td>-0.000007</td>\n",
       "    </tr>\n",
       "    <tr>\n",
       "      <th>8</th>\n",
       "      <td>8</td>\n",
       "      <td>-0.000007</td>\n",
       "    </tr>\n",
       "    <tr>\n",
       "      <th>9</th>\n",
       "      <td>9</td>\n",
       "      <td>-0.000017</td>\n",
       "    </tr>\n",
       "    <tr>\n",
       "      <th>10</th>\n",
       "      <td>10</td>\n",
       "      <td>-0.000027</td>\n",
       "    </tr>\n",
       "    <tr>\n",
       "      <th>11</th>\n",
       "      <td>11</td>\n",
       "      <td>0.000029</td>\n",
       "    </tr>\n",
       "    <tr>\n",
       "      <th>12</th>\n",
       "      <td>12</td>\n",
       "      <td>-0.000037</td>\n",
       "    </tr>\n",
       "    <tr>\n",
       "      <th>13</th>\n",
       "      <td>13</td>\n",
       "      <td>-0.000002</td>\n",
       "    </tr>\n",
       "  </tbody>\n",
       "</table>\n",
       "</div>"
      ],
      "text/plain": [
       "    row_id    Target\n",
       "0        0 -0.000031\n",
       "1        1 -0.000002\n",
       "2        2  0.000020\n",
       "3        3  0.000013\n",
       "4        4  0.000032\n",
       "5        5 -0.000004\n",
       "6        6  0.000072\n",
       "7        7 -0.000007\n",
       "8        8 -0.000007\n",
       "9        9 -0.000017\n",
       "10      10 -0.000027\n",
       "11      11  0.000029\n",
       "12      12 -0.000037\n",
       "13      13 -0.000002"
      ]
     },
     "metadata": {},
     "output_type": "display_data"
    }
   ],
   "source": [
    "all_df_test = []\n",
    "\n",
    "env = gresearch_crypto.make_env()\n",
    "iter_test = env.iter_test()\n",
    "\n",
    "for i, (df_test, df_pred) in enumerate(iter_test):\n",
    "    for j , row in df_test.iterrows():\n",
    "        \n",
    "        model = models[row['Asset_ID']]\n",
    "        x_test = get_features(row)\n",
    "        y_pred = model.predict([x_test])[0]\n",
    "        \n",
    "        df_pred.loc[df_pred['row_id'] == row['row_id'], 'Target'] = y_pred\n",
    "        \n",
    "        \n",
    "        # Print just one sample row to get a feeling of what it looks like\n",
    "        if i == 0 and j == 0:\n",
    "            display(x_test)\n",
    "\n",
    "    # Display the first prediction dataframe\n",
    "    if i == 0:\n",
    "        display(df_pred)\n",
    "    all_df_test.append(df_test)\n",
    "\n",
    "    # Send submissions\n",
    "    env.predict(df_pred)"
   ]
  },
  {
   "cell_type": "markdown",
   "id": "5235da96",
   "metadata": {
    "papermill": {
     "duration": 0.022323,
     "end_time": "2021-11-06T07:30:54.139409",
     "exception": false,
     "start_time": "2021-11-06T07:30:54.117086",
     "status": "completed"
    },
    "tags": []
   },
   "source": [
    "# df_train and df_test overlap"
   ]
  },
  {
   "cell_type": "code",
   "execution_count": 10,
   "id": "1f2478e3",
   "metadata": {
    "execution": {
     "iopub.execute_input": "2021-11-06T07:30:54.196042Z",
     "iopub.status.busy": "2021-11-06T07:30:54.194968Z",
     "iopub.status.idle": "2021-11-06T07:30:56.137100Z",
     "shell.execute_reply": "2021-11-06T07:30:56.136213Z",
     "shell.execute_reply.started": "2021-11-03T17:55:02.787293Z"
    },
    "papermill": {
     "duration": 1.973707,
     "end_time": "2021-11-06T07:30:56.137354",
     "exception": false,
     "start_time": "2021-11-06T07:30:54.163647",
     "status": "completed"
    },
    "tags": []
   },
   "outputs": [],
   "source": [
    "df_test = pd.concat(all_df_test)\n",
    "df_test['datetime'] = pd.to_datetime(df_test['timestamp'], unit='s')\n",
    "df_train['datetime'] = pd.to_datetime(df_train['timestamp'], unit='s')"
   ]
  },
  {
   "cell_type": "code",
   "execution_count": 11,
   "id": "4bc29e3c",
   "metadata": {
    "execution": {
     "iopub.execute_input": "2021-11-06T07:30:56.193788Z",
     "iopub.status.busy": "2021-11-06T07:30:56.193003Z",
     "iopub.status.idle": "2021-11-06T07:30:56.288647Z",
     "shell.execute_reply": "2021-11-06T07:30:56.289309Z"
    },
    "papermill": {
     "duration": 0.125688,
     "end_time": "2021-11-06T07:30:56.289519",
     "exception": false,
     "start_time": "2021-11-06T07:30:56.163831",
     "status": "completed"
    },
    "tags": []
   },
   "outputs": [
    {
     "data": {
      "text/plain": [
       "Timestamp('2021-06-12 23:59:00')"
      ]
     },
     "execution_count": 11,
     "metadata": {},
     "output_type": "execute_result"
    }
   ],
   "source": [
    "df_train['datetime'].max()"
   ]
  },
  {
   "cell_type": "code",
   "execution_count": 12,
   "id": "497d8a4c",
   "metadata": {
    "execution": {
     "iopub.execute_input": "2021-11-06T07:30:56.343921Z",
     "iopub.status.busy": "2021-11-06T07:30:56.343154Z",
     "iopub.status.idle": "2021-11-06T07:30:56.350054Z",
     "shell.execute_reply": "2021-11-06T07:30:56.349425Z"
    },
    "papermill": {
     "duration": 0.035136,
     "end_time": "2021-11-06T07:30:56.350247",
     "exception": false,
     "start_time": "2021-11-06T07:30:56.315111",
     "status": "completed"
    },
    "tags": []
   },
   "outputs": [
    {
     "data": {
      "text/plain": [
       "Timestamp('2021-06-13 00:00:00')"
      ]
     },
     "execution_count": 12,
     "metadata": {},
     "output_type": "execute_result"
    }
   ],
   "source": [
    "df_test['datetime'].min()"
   ]
  }
 ],
 "metadata": {
  "kernelspec": {
   "display_name": "Python 3",
   "language": "python",
   "name": "python3"
  },
  "language_info": {
   "codemirror_mode": {
    "name": "ipython",
    "version": 3
   },
   "file_extension": ".py",
   "mimetype": "text/x-python",
   "name": "python",
   "nbconvert_exporter": "python",
   "pygments_lexer": "ipython3",
   "version": "3.7.10"
  },
  "papermill": {
   "default_parameters": {},
   "duration": 111.626746,
   "end_time": "2021-11-06T07:30:57.489007",
   "environment_variables": {},
   "exception": null,
   "input_path": "__notebook__.ipynb",
   "output_path": "__notebook__.ipynb",
   "parameters": {},
   "start_time": "2021-11-06T07:29:05.862261",
   "version": "2.3.3"
  }
 },
 "nbformat": 4,
 "nbformat_minor": 5
}
